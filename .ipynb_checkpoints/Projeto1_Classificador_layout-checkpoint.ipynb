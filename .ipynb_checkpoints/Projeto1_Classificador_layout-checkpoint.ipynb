{
 "cells": [
  {
   "cell_type": "markdown",
   "metadata": {},
   "source": [
    "# Projeto 1 - Ciência dos Dados"
   ]
  },
  {
   "cell_type": "markdown",
   "metadata": {},
   "source": [
    "Nome: Fernando Peres Marques Gameiro França\n",
    "\n",
    "Nome: Francisco Augusto Buzolin Vasconcellos da Costa\n",
    "\n",
    "Nome: Vínicius Grando Eller"
   ]
  },
  {
   "cell_type": "markdown",
   "metadata": {},
   "source": [
    "**Atenção:** Serão permitidos grupos de três pessoas, mas com uma rubrica mais exigente. Grupos deste tamanho precisarão fazer um questionário de avaliação de trabalho em equipe"
   ]
  },
  {
   "cell_type": "markdown",
   "metadata": {},
   "source": [
    "___\n",
    "Carregando algumas bibliotecas:"
   ]
  },
  {
   "cell_type": "code",
   "execution_count": 1,
   "metadata": {},
   "outputs": [],
   "source": [
    "%matplotlib inline\n",
    "import pandas as pd\n",
    "import matplotlib.pyplot as plt\n",
    "import numpy as np\n",
    "import os\n",
    "import string"
   ]
  },
  {
   "cell_type": "markdown",
   "metadata": {},
   "source": [
    "**Em `filename`, coloque o nome do seu arquivo de dados!**"
   ]
  },
  {
   "cell_type": "code",
   "execution_count": 2,
   "metadata": {},
   "outputs": [
    {
     "name": "stdout",
     "output_type": "stream",
     "text": [
      "Encontrei o arquivo Bolsonaro.xlsx, tudo certo para prosseguir com a prova!\n"
     ]
    }
   ],
   "source": [
    "import os\n",
    "\n",
    "filename = 'Bolsonaro.xlsx'\n",
    "if filename in os.listdir():\n",
    "    print(f'Encontrei o arquivo {filename}, tudo certo para prosseguir com a prova!')\n",
    "else:\n",
    "    print(f'Não encontrei o arquivo {filename} aqui no diretório {os.getcwd()}, será que você não baixou o arquivo?')"
   ]
  },
  {
   "cell_type": "markdown",
   "metadata": {},
   "source": [
    "Carregando a base de dados com os tweets classificados como relevantes e não relevantes:"
   ]
  },
  {
   "cell_type": "code",
   "execution_count": 3,
   "metadata": {},
   "outputs": [
    {
     "data": {
      "text/html": [
       "<div>\n",
       "<style scoped>\n",
       "    .dataframe tbody tr th:only-of-type {\n",
       "        vertical-align: middle;\n",
       "    }\n",
       "\n",
       "    .dataframe tbody tr th {\n",
       "        vertical-align: top;\n",
       "    }\n",
       "\n",
       "    .dataframe thead th {\n",
       "        text-align: right;\n",
       "    }\n",
       "</style>\n",
       "<table border=\"1\" class=\"dataframe\">\n",
       "  <thead>\n",
       "    <tr style=\"text-align: right;\">\n",
       "      <th></th>\n",
       "      <th>Treinamento</th>\n",
       "      <th>Classificação</th>\n",
       "    </tr>\n",
       "  </thead>\n",
       "  <tbody>\n",
       "    <tr>\n",
       "      <th>0</th>\n",
       "      <td>maia testa positivo para covid-19.\\nmaia, só v...</td>\n",
       "      <td>-1</td>\n",
       "    </tr>\n",
       "    <tr>\n",
       "      <th>1</th>\n",
       "      <td>bolsonaro autoriza criação de um novo programa...</td>\n",
       "      <td>1</td>\n",
       "    </tr>\n",
       "    <tr>\n",
       "      <th>2</th>\n",
       "      <td>rt @diego1amorim: jair bolsonaro, no último di...</td>\n",
       "      <td>0</td>\n",
       "    </tr>\n",
       "    <tr>\n",
       "      <th>3</th>\n",
       "      <td>rt @opropriolavo: os inimigos do bolsonaro e d...</td>\n",
       "      <td>-1</td>\n",
       "    </tr>\n",
       "    <tr>\n",
       "      <th>4</th>\n",
       "      <td>bolsonaro e russomano chegaram a se reunir em ...</td>\n",
       "      <td>0</td>\n",
       "    </tr>\n",
       "  </tbody>\n",
       "</table>\n",
       "</div>"
      ],
      "text/plain": [
       "                                         Treinamento  Classificação\n",
       "0  maia testa positivo para covid-19.\\nmaia, só v...             -1\n",
       "1  bolsonaro autoriza criação de um novo programa...              1\n",
       "2  rt @diego1amorim: jair bolsonaro, no último di...              0\n",
       "3  rt @opropriolavo: os inimigos do bolsonaro e d...             -1\n",
       "4  bolsonaro e russomano chegaram a se reunir em ...              0"
      ]
     },
     "execution_count": 3,
     "metadata": {},
     "output_type": "execute_result"
    }
   ],
   "source": [
    "train = pd.read_excel(filename)\n",
    "del train[\"Unnamed: 2\"]\n",
    "del train[\"Unnamed: 3\"]\n",
    "del train[\"Unnamed: 4\"]\n",
    "del train[\"Unnamed: 5\"]\n",
    "train.head(5)"
   ]
  },
  {
   "cell_type": "code",
   "execution_count": 4,
   "metadata": {},
   "outputs": [
    {
     "data": {
      "text/html": [
       "<div>\n",
       "<style scoped>\n",
       "    .dataframe tbody tr th:only-of-type {\n",
       "        vertical-align: middle;\n",
       "    }\n",
       "\n",
       "    .dataframe tbody tr th {\n",
       "        vertical-align: top;\n",
       "    }\n",
       "\n",
       "    .dataframe thead th {\n",
       "        text-align: right;\n",
       "    }\n",
       "</style>\n",
       "<table border=\"1\" class=\"dataframe\">\n",
       "  <thead>\n",
       "    <tr style=\"text-align: right;\">\n",
       "      <th></th>\n",
       "      <th>Teste</th>\n",
       "      <th>Classificação</th>\n",
       "    </tr>\n",
       "  </thead>\n",
       "  <tbody>\n",
       "    <tr>\n",
       "      <th>0</th>\n",
       "      <td>rt @gazeta_brasil: ideb: no 1° ano do governo ...</td>\n",
       "      <td>1</td>\n",
       "    </tr>\n",
       "    <tr>\n",
       "      <th>1</th>\n",
       "      <td>rt @jrguzzofatos: fernando henrique inventou a...</td>\n",
       "      <td>0</td>\n",
       "    </tr>\n",
       "    <tr>\n",
       "      <th>2</th>\n",
       "      <td>rt @teodorico1967: @brazilfight o que ele falo...</td>\n",
       "      <td>2</td>\n",
       "    </tr>\n",
       "    <tr>\n",
       "      <th>3</th>\n",
       "      <td>rt @woliveira_real: o molusco defendendo o bol...</td>\n",
       "      <td>0</td>\n",
       "    </tr>\n",
       "    <tr>\n",
       "      <th>4</th>\n",
       "      <td>tá sabendo o que ta rolando na ufrgs? esse é o...</td>\n",
       "      <td>-1</td>\n",
       "    </tr>\n",
       "  </tbody>\n",
       "</table>\n",
       "</div>"
      ],
      "text/plain": [
       "                                               Teste  Classificação\n",
       "0  rt @gazeta_brasil: ideb: no 1° ano do governo ...              1\n",
       "1  rt @jrguzzofatos: fernando henrique inventou a...              0\n",
       "2  rt @teodorico1967: @brazilfight o que ele falo...              2\n",
       "3  rt @woliveira_real: o molusco defendendo o bol...              0\n",
       "4  tá sabendo o que ta rolando na ufrgs? esse é o...             -1"
      ]
     },
     "execution_count": 4,
     "metadata": {},
     "output_type": "execute_result"
    }
   ],
   "source": [
    "test = pd.read_excel(filename, sheet_name = 'Teste')\n",
    "del test[\"Unnamed: 2\"]\n",
    "del test[\"Unnamed: 3\"]\n",
    "del test[\"Unnamed: 4\"]\n",
    "del test[\"Unnamed: 5\"]\n",
    "test.head(5)"
   ]
  },
  {
   "cell_type": "markdown",
   "metadata": {},
   "source": [
    "___\n",
    "## Classificador automático de sentimento\n"
   ]
  },
  {
   "cell_type": "markdown",
   "metadata": {},
   "source": [
    "#### O objetivo do nosso projeto é criar um classificador capaz de prever tweets em Python. \n",
    "\n",
    "#### Nossa base de dados consiste em 750 tweets (sendo 500 para treinamento e 250 para teste) com a palavra \"Bolsonaro\". Além disso, ela esta categorizada em:\n",
    "\n",
    "    -1 => Comentário Negativo\n",
    "\n",
    "    0  => Comentário Neutro/Irrelevante\n",
    "\n",
    "    1  => Comentário Positivo\n",
    "\n",
    "    2  => Comentário Positivo Extremo"
   ]
  },
  {
   "cell_type": "markdown",
   "metadata": {},
   "source": [
    "___\n",
    "### Montando um Classificador Naive-Bayes\n",
    "\n",
    "Considerando apenas as mensagens da planilha Treinamento, ensine  seu classificador."
   ]
  },
  {
   "cell_type": "code",
   "execution_count": 5,
   "metadata": {},
   "outputs": [],
   "source": [
    "def conta_ocorrencias(l):\n",
    "    dic = {}\n",
    "    for i in l:\n",
    "        dic[i] = l.count(i)\n",
    "    return dic\n",
    "\n",
    "lista_palavras = []\n",
    "lista_negativas = []\n",
    "lista_neutro = []\n",
    "lista_positivo = []\n",
    "lista_positivo_extremo = []\n",
    "\n",
    "for index, tweet in enumerate(train[\"Treinamento\"]):\n",
    "    tweet = tweet.translate(str.maketrans('', '', string.punctuation+\"…“\"))\n",
    "    tweet = \" \".join(tweet.split())\n",
    "    \n",
    "    classificacao = train.iloc[index, 1]\n",
    "    \n",
    "    lista_temporaria = []\n",
    "    \n",
    "    for palavra in tweet.split():\n",
    "        lista_temporaria.append(palavra.lower())\n",
    "    \n",
    "    if classificacao == -1:\n",
    "        lista_negativas += lista_temporaria\n",
    "    elif classificacao == 0:\n",
    "        lista_neutro += lista_temporaria\n",
    "    elif classificacao == 1:\n",
    "        lista_positivo += lista_temporaria\n",
    "    else:\n",
    "        lista_positivo_extremo += lista_temporaria\n",
    "    \n",
    "    lista_palavras += lista_temporaria\n",
    "    \n",
    "\n",
    "set_palavras = set(lista_palavras)\n",
    "dic_negativa = conta_ocorrencias(lista_negativas)\n",
    "dic_neutro = conta_ocorrencias(lista_neutro)\n",
    "dic_positivo = conta_ocorrencias(lista_positivo)\n",
    "dic_positivo_extremo = conta_ocorrencias(lista_positivo_extremo)"
   ]
  },
  {
   "cell_type": "code",
   "execution_count": 6,
   "metadata": {},
   "outputs": [],
   "source": [
    "def probabilidade_da_frase(tweet):\n",
    "    tweet = tweet.translate(str.maketrans('', '', string.punctuation+\"…“\"))\n",
    "    tweet = \" \".join(tweet.split())\n",
    "    \n",
    "    p_negativa = 1\n",
    "    p_neutro = 1\n",
    "    p_positivo = 1\n",
    "    p_positivo_extremo = 1\n",
    "    \n",
    "    for palavra in tweet.split():\n",
    "        if palavra not in dic_negativa:\n",
    "            p_negativa *= 1/(len(set_palavras)+len(lista_negativas))\n",
    "        else:\n",
    "            p_negativa *= (1+dic_negativa[palavra])/(len(set_palavras)+len(lista_negativas))\n",
    "        \n",
    "        if palavra not in dic_neutro:\n",
    "            p_neutro *= 1/(len(set_palavras)+len(lista_neutro))\n",
    "        else:\n",
    "            p_neutro *= (1+dic_neutro[palavra])/(len(set_palavras)+len(lista_neutro))\n",
    "        \n",
    "        if palavra not in dic_positivo:\n",
    "            p_positivo *= 1/(len(set_palavras)+len(lista_positivo))\n",
    "        else:\n",
    "            p_positivo *= (1+dic_positivo[palavra])/(len(set_palavras)+len(lista_positivo))\n",
    "        \n",
    "        if palavra not in dic_positivo_extremo:\n",
    "            p_positivo_extremo *= 1/(len(set_palavras)+len(lista_positivo_extremo))\n",
    "        else:\n",
    "            p_positivo_extremo *= (1+dic_positivo_extremo[palavra])/(len(set_palavras)+len(lista_positivo_extremo))\n",
    "    \n",
    "    return [p_negativa, p_neutro, p_positivo, p_positivo_extremo]"
   ]
  },
  {
   "cell_type": "code",
   "execution_count": 7,
   "metadata": {},
   "outputs": [
    {
     "data": {
      "text/plain": [
       "477"
      ]
     },
     "execution_count": 7,
     "metadata": {},
     "output_type": "execute_result"
    }
   ],
   "source": [
    "pontuacao = 0\n",
    "for index, each in enumerate(train.iloc[:, 0]):\n",
    "    p = probabilidade_da_frase(each)\n",
    "    if p.index(max(p))-1 == train.iloc[index, 1]:\n",
    "        pontuacao += 1\n",
    "\n",
    "pontuacao"
   ]
  },
  {
   "cell_type": "markdown",
   "metadata": {},
   "source": [
    "___\n",
    "### Verificando a performance do Classificador\n",
    "\n",
    "Agora você deve testar o seu classificador com a base de Testes."
   ]
  },
  {
   "cell_type": "code",
   "execution_count": null,
   "metadata": {},
   "outputs": [],
   "source": []
  },
  {
   "cell_type": "code",
   "execution_count": null,
   "metadata": {},
   "outputs": [],
   "source": []
  },
  {
   "cell_type": "code",
   "execution_count": null,
   "metadata": {},
   "outputs": [],
   "source": []
  },
  {
   "cell_type": "markdown",
   "metadata": {},
   "source": [
    "___\n",
    "### Concluindo"
   ]
  },
  {
   "cell_type": "code",
   "execution_count": null,
   "metadata": {},
   "outputs": [],
   "source": []
  },
  {
   "cell_type": "code",
   "execution_count": null,
   "metadata": {},
   "outputs": [],
   "source": []
  },
  {
   "cell_type": "markdown",
   "metadata": {},
   "source": [
    "___\n",
    "## Aperfeiçoamento:\n",
    "\n",
    "Os trabalhos vão evoluir em conceito dependendo da quantidade de itens avançados:\n",
    "\n",
    "* Limpar: \\n, :, \", ', (, ), etc SEM remover emojis\n",
    "* Corrigir separação de espaços entre palavras e emojis ou entre emojis e emojis\n",
    "* Propor outras limpezas e transformações que não afetem a qualidade da informação ou classificação\n",
    "* Criar categorias intermediárias de relevância baseadas na probabilidade: ex.: muito relevante, relevante, neutro, irrelevante, muito irrelevante (3 categorias: C, mais categorias conta para B)\n",
    "* Explicar por que não posso usar o próprio classificador para gerar mais amostras de treinamento\n",
    "* Propor diferentes cenários para Naïve Bayes fora do contexto do projeto\n",
    "* Sugerir e explicar melhorias reais com indicações concretas de como implementar (indicar como fazer e indicar material de pesquisa)\n",
    "* Montar um dashboard que realiza análise de sentimento e visualiza estes dados"
   ]
  },
  {
   "cell_type": "markdown",
   "metadata": {},
   "source": [
    "___\n",
    "## Referências"
   ]
  },
  {
   "cell_type": "markdown",
   "metadata": {},
   "source": [
    "[Naive Bayes and Text Classification](https://arxiv.org/pdf/1410.5329.pdf)  **Mais completo**\n",
    "\n",
    "[A practical explanation of a Naive Bayes Classifier](https://monkeylearn.com/blog/practical-explanation-naive-bayes-classifier/) **Mais simples**"
   ]
  },
  {
   "cell_type": "code",
   "execution_count": null,
   "metadata": {},
   "outputs": [],
   "source": []
  }
 ],
 "metadata": {
  "kernelspec": {
   "display_name": "Python 3",
   "language": "python",
   "name": "python3"
  },
  "language_info": {
   "codemirror_mode": {
    "name": "ipython",
    "version": 3
   },
   "file_extension": ".py",
   "mimetype": "text/x-python",
   "name": "python",
   "nbconvert_exporter": "python",
   "pygments_lexer": "ipython3",
   "version": "3.7.7"
  }
 },
 "nbformat": 4,
 "nbformat_minor": 4
}
